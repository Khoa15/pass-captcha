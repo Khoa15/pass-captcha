{
 "cells": [
  {
   "cell_type": "code",
   "execution_count": null,
   "metadata": {},
   "outputs": [],
   "source": [
    "import torch\n",
    "import torch2csharp"
   ]
  }
 ],
 "metadata": {
  "kernelspec": {
   "display_name": "captcha",
   "language": "python",
   "name": "python3"
  },
  "language_info": {
   "name": "python",
   "version": "3.8.16"
  },
  "orig_nbformat": 4,
  "vscode": {
   "interpreter": {
    "hash": "1f89b87940c0c31974be6674becbba668042f2e89bbfc3678b48dbf675b4e60e"
   }
  }
 },
 "nbformat": 4,
 "nbformat_minor": 2
}
